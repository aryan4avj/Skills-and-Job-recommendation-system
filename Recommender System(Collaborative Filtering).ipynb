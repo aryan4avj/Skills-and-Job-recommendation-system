{
 "cells": [
  {
   "cell_type": "code",
   "execution_count": 1,
   "metadata": {},
   "outputs": [
    {
     "name": "stdout",
     "output_type": "stream",
     "text": [
      "['C:\\\\Users\\\\Vikas Jain\\\\Desktop\\\\recommender', 'C:\\\\Users\\\\Vikas Jain\\\\anaconda3\\\\python37.zip', 'C:\\\\Users\\\\Vikas Jain\\\\anaconda3\\\\DLLs', 'C:\\\\Users\\\\Vikas Jain\\\\anaconda3\\\\lib', 'C:\\\\Users\\\\Vikas Jain\\\\anaconda3', '', 'C:\\\\Users\\\\Vikas Jain\\\\AppData\\\\Roaming\\\\Python\\\\Python37\\\\site-packages', 'C:\\\\Users\\\\Vikas Jain\\\\anaconda3\\\\lib\\\\site-packages', 'C:\\\\Users\\\\Vikas Jain\\\\anaconda3\\\\lib\\\\site-packages\\\\win32', 'C:\\\\Users\\\\Vikas Jain\\\\anaconda3\\\\lib\\\\site-packages\\\\win32\\\\lib', 'C:\\\\Users\\\\Vikas Jain\\\\anaconda3\\\\lib\\\\site-packages\\\\Pythonwin', 'C:\\\\Users\\\\Vikas Jain\\\\anaconda3\\\\lib\\\\site-packages\\\\IPython\\\\extensions', 'C:\\\\Users\\\\Vikas Jain\\\\.ipython']\n"
     ]
    }
   ],
   "source": [
    "import pandas as pd\n",
    "import matplotlib.pyplot as plt\n",
    "import numpy as np\n",
    "import sys\n",
    "print(sys.path)\n",
    "import time\n",
    "import random"
   ]
  },
  {
   "cell_type": "code",
   "execution_count": 2,
   "metadata": {},
   "outputs": [
    {
     "name": "stderr",
     "output_type": "stream",
     "text": [
      "C:\\Users\\Vikas Jain\\anaconda3\\lib\\site-packages\\IPython\\core\\interactiveshell.py:3063: DtypeWarning: Columns (8,12,13,14,15,16,50,51,52,53,55,56,57,58,59,60,61,62,63,64,65,66,67,68,69,70,71,72,73,74,75,76,77,78,79,80,81,82,83,84,85,93,94,95,96,97,98,99,100,101,102,103,104,105,106,107,108,109,110,111,112,113,114,115,116,117,118,119,120,121,122,123,124,125,126,127,128) have mixed types.Specify dtype option on import or set low_memory=False.\n",
      "  interactivity=interactivity, compiler=compiler, result=result)\n"
     ]
    }
   ],
   "source": [
    "#for recommending job titles.\n",
    "df=pd.read_csv(\"./data/collaborative filtering/dice_com-job_us_sample.csv\")\n",
    "# df.head()\n",
    "\n",
    "#for recommending skills for the post\n",
    "df1=pd.read_csv(\"./data/collaborative filtering/survey_results_public.csv\")\n",
    "# df.head()"
   ]
  },
  {
   "cell_type": "code",
   "execution_count": 3,
   "metadata": {},
   "outputs": [],
   "source": [
    "#merge all the dataset having skills from user profile.\n",
    "dflang=pd.read_csv(\"./data/collaborative filtering/LanguageWorkedwith.csv\")\n",
    "dfdata=pd.read_csv(\"./data/collaborative filtering/DatabaseWorkedWith.csv\")\n",
    "dfplat=pd.read_csv(\"./data/collaborative filtering/PlatformWorkedWith.csv\")\n",
    "dfframe=pd.read_csv(\"./data/collaborative filtering/FrameworkWorkedWith.csv\")\n",
    "dfdev=pd.read_csv(\"./data/collaborative filtering/DevType.csv\")\n",
    "dfmerge=pd.merge(dflang,dfdata,on=\"Respondent\")\n",
    "dfmerge=pd.merge(dfmerge,dfplat,on=\"Respondent\")\n",
    "dfmerge=pd.merge(dfmerge,dfframe,on=\"Respondent\")\n",
    "dfmerge=pd.merge(dfmerge,dfdev,on=\"Respondent\")\n",
    "#dfmerge.to_csv(\"./data/collaborative filtering/userskills.csv\")"
   ]
  },
  {
   "cell_type": "code",
   "execution_count": 4,
   "metadata": {},
   "outputs": [
    {
     "data": {
      "text/html": [
       "<div>\n",
       "<style scoped>\n",
       "    .dataframe tbody tr th:only-of-type {\n",
       "        vertical-align: middle;\n",
       "    }\n",
       "\n",
       "    .dataframe tbody tr th {\n",
       "        vertical-align: top;\n",
       "    }\n",
       "\n",
       "    .dataframe thead th {\n",
       "        text-align: right;\n",
       "    }\n",
       "</style>\n",
       "<table border=\"1\" class=\"dataframe\">\n",
       "  <thead>\n",
       "    <tr style=\"text-align: right;\">\n",
       "      <th></th>\n",
       "      <th>Unnamed: 0</th>\n",
       "      <th>Unnamed: 0_x</th>\n",
       "      <th>Respondent</th>\n",
       "      <th>Erlang</th>\n",
       "      <th>Ruby</th>\n",
       "      <th>Delphi/Object Pascal</th>\n",
       "      <th>Assembly</th>\n",
       "      <th>CSS</th>\n",
       "      <th>JavaScript</th>\n",
       "      <th>Python</th>\n",
       "      <th>...</th>\n",
       "      <th>Back-end developer</th>\n",
       "      <th>Student</th>\n",
       "      <th>C-suite executive (CEO, CTO, etc.)</th>\n",
       "      <th>DevOps specialist</th>\n",
       "      <th>Front-end developer</th>\n",
       "      <th>Database administrator</th>\n",
       "      <th>Data scientist or machine learning specialist</th>\n",
       "      <th>Embedded applications or devices developer</th>\n",
       "      <th>Desktop or enterprise applications developer</th>\n",
       "      <th>Full-stack developer</th>\n",
       "    </tr>\n",
       "  </thead>\n",
       "  <tbody>\n",
       "    <tr>\n",
       "      <th>0</th>\n",
       "      <td>0</td>\n",
       "      <td>0</td>\n",
       "      <td>1</td>\n",
       "      <td>0.0</td>\n",
       "      <td>0.0</td>\n",
       "      <td>0.0</td>\n",
       "      <td>0.0</td>\n",
       "      <td>1.0</td>\n",
       "      <td>1.0</td>\n",
       "      <td>1.0</td>\n",
       "      <td>...</td>\n",
       "      <td>0.0</td>\n",
       "      <td>0.0</td>\n",
       "      <td>0.0</td>\n",
       "      <td>0.0</td>\n",
       "      <td>0.0</td>\n",
       "      <td>0.0</td>\n",
       "      <td>0.0</td>\n",
       "      <td>0.0</td>\n",
       "      <td>0.0</td>\n",
       "      <td>1.0</td>\n",
       "    </tr>\n",
       "    <tr>\n",
       "      <th>1</th>\n",
       "      <td>1</td>\n",
       "      <td>1</td>\n",
       "      <td>3</td>\n",
       "      <td>0.0</td>\n",
       "      <td>0.0</td>\n",
       "      <td>0.0</td>\n",
       "      <td>0.0</td>\n",
       "      <td>0.0</td>\n",
       "      <td>1.0</td>\n",
       "      <td>1.0</td>\n",
       "      <td>...</td>\n",
       "      <td>0.0</td>\n",
       "      <td>0.0</td>\n",
       "      <td>0.0</td>\n",
       "      <td>1.0</td>\n",
       "      <td>0.0</td>\n",
       "      <td>1.0</td>\n",
       "      <td>0.0</td>\n",
       "      <td>0.0</td>\n",
       "      <td>0.0</td>\n",
       "      <td>1.0</td>\n",
       "    </tr>\n",
       "    <tr>\n",
       "      <th>2</th>\n",
       "      <td>2</td>\n",
       "      <td>2</td>\n",
       "      <td>4</td>\n",
       "      <td>0.0</td>\n",
       "      <td>0.0</td>\n",
       "      <td>0.0</td>\n",
       "      <td>0.0</td>\n",
       "      <td>0.0</td>\n",
       "      <td>0.0</td>\n",
       "      <td>0.0</td>\n",
       "      <td>...</td>\n",
       "      <td>0.0</td>\n",
       "      <td>0.0</td>\n",
       "      <td>0.0</td>\n",
       "      <td>0.0</td>\n",
       "      <td>0.0</td>\n",
       "      <td>0.0</td>\n",
       "      <td>0.0</td>\n",
       "      <td>0.0</td>\n",
       "      <td>0.0</td>\n",
       "      <td>1.0</td>\n",
       "    </tr>\n",
       "    <tr>\n",
       "      <th>3</th>\n",
       "      <td>3</td>\n",
       "      <td>3</td>\n",
       "      <td>5</td>\n",
       "      <td>0.0</td>\n",
       "      <td>0.0</td>\n",
       "      <td>0.0</td>\n",
       "      <td>0.0</td>\n",
       "      <td>1.0</td>\n",
       "      <td>1.0</td>\n",
       "      <td>0.0</td>\n",
       "      <td>...</td>\n",
       "      <td>0.0</td>\n",
       "      <td>0.0</td>\n",
       "      <td>0.0</td>\n",
       "      <td>0.0</td>\n",
       "      <td>0.0</td>\n",
       "      <td>0.0</td>\n",
       "      <td>0.0</td>\n",
       "      <td>0.0</td>\n",
       "      <td>0.0</td>\n",
       "      <td>1.0</td>\n",
       "    </tr>\n",
       "    <tr>\n",
       "      <th>4</th>\n",
       "      <td>4</td>\n",
       "      <td>4</td>\n",
       "      <td>7</td>\n",
       "      <td>0.0</td>\n",
       "      <td>0.0</td>\n",
       "      <td>0.0</td>\n",
       "      <td>0.0</td>\n",
       "      <td>0.0</td>\n",
       "      <td>0.0</td>\n",
       "      <td>0.0</td>\n",
       "      <td>...</td>\n",
       "      <td>0.0</td>\n",
       "      <td>1.0</td>\n",
       "      <td>0.0</td>\n",
       "      <td>0.0</td>\n",
       "      <td>0.0</td>\n",
       "      <td>0.0</td>\n",
       "      <td>0.0</td>\n",
       "      <td>0.0</td>\n",
       "      <td>1.0</td>\n",
       "      <td>0.0</td>\n",
       "    </tr>\n",
       "  </tbody>\n",
       "</table>\n",
       "<p>5 rows × 124 columns</p>\n",
       "</div>"
      ],
      "text/plain": [
       "   Unnamed: 0  Unnamed: 0_x  Respondent  Erlang  Ruby  Delphi/Object Pascal  \\\n",
       "0           0             0           1     0.0   0.0                   0.0   \n",
       "1           1             1           3     0.0   0.0                   0.0   \n",
       "2           2             2           4     0.0   0.0                   0.0   \n",
       "3           3             3           5     0.0   0.0                   0.0   \n",
       "4           4             4           7     0.0   0.0                   0.0   \n",
       "\n",
       "   Assembly  CSS  JavaScript  Python  ...  Back-end developer  Student  \\\n",
       "0       0.0  1.0         1.0     1.0  ...                 0.0      0.0   \n",
       "1       0.0  0.0         1.0     1.0  ...                 0.0      0.0   \n",
       "2       0.0  0.0         0.0     0.0  ...                 0.0      0.0   \n",
       "3       0.0  1.0         1.0     0.0  ...                 0.0      0.0   \n",
       "4       0.0  0.0         0.0     0.0  ...                 0.0      1.0   \n",
       "\n",
       "   C-suite executive (CEO, CTO, etc.)  DevOps specialist  Front-end developer  \\\n",
       "0                                 0.0                0.0                  0.0   \n",
       "1                                 0.0                1.0                  0.0   \n",
       "2                                 0.0                0.0                  0.0   \n",
       "3                                 0.0                0.0                  0.0   \n",
       "4                                 0.0                0.0                  0.0   \n",
       "\n",
       "   Database administrator  Data scientist or machine learning specialist  \\\n",
       "0                     0.0                                            0.0   \n",
       "1                     1.0                                            0.0   \n",
       "2                     0.0                                            0.0   \n",
       "3                     0.0                                            0.0   \n",
       "4                     0.0                                            0.0   \n",
       "\n",
       "   Embedded applications or devices developer  \\\n",
       "0                                         0.0   \n",
       "1                                         0.0   \n",
       "2                                         0.0   \n",
       "3                                         0.0   \n",
       "4                                         0.0   \n",
       "\n",
       "   Desktop or enterprise applications developer  Full-stack developer  \n",
       "0                                           0.0                   1.0  \n",
       "1                                           0.0                   1.0  \n",
       "2                                           0.0                   1.0  \n",
       "3                                           0.0                   1.0  \n",
       "4                                           1.0                   0.0  \n",
       "\n",
       "[5 rows x 124 columns]"
      ]
     },
     "execution_count": 4,
     "metadata": {},
     "output_type": "execute_result"
    }
   ],
   "source": [
    "dfuser=pd.read_csv(\"./data/collaborative filtering/userskills.csv\")\n",
    "#remove duplicate columns during merge\n",
    "dfuser = dfuser.loc[:,~dfuser.columns.duplicated()]\n",
    "dfuser=dfuser.fillna(0)\n",
    "dfuser.shape   #(98855, 124)\n",
    "dfuser.head()"
   ]
  },
  {
   "cell_type": "code",
   "execution_count": 5,
   "metadata": {},
   "outputs": [
    {
     "name": "stderr",
     "output_type": "stream",
     "text": [
      "C:\\Users\\Vikas Jain\\anaconda3\\lib\\site-packages\\ipykernel_launcher.py:4: DeprecationWarning: np.asscalar(a) is deprecated since NumPy v1.16, use a.item() instead\n",
      "  after removing the cwd from sys.path.\n",
      "C:\\Users\\Vikas Jain\\anaconda3\\lib\\site-packages\\ipykernel_launcher.py:17: DeprecationWarning: np.asscalar(a) is deprecated since NumPy v1.16, use a.item() instead\n"
     ]
    },
    {
     "name": "stdout",
     "output_type": "stream",
     "text": [
      "101592\n",
      "<class 'int'>\n",
      "[1. 3. 0. 0. 0. 0. 0. 1. 1. 0. 0. 0. 0. 0. 0. 0. 0. 1. 0. 0. 0. 0. 0. 0.\n",
      " 0. 0. 0. 0. 0. 0. 0. 0. 0. 0. 0. 0. 0. 0. 0. 0. 1. 1. 0. 0. 0. 0. 1. 0.\n",
      " 0. 0. 0. 0. 0. 0. 0. 0. 0. 1. 0. 0. 0. 0. 1. 0. 0. 0. 0. 0. 0. 0. 0. 0.\n",
      " 0. 0. 0. 0. 0. 0. 0. 0. 0. 0. 0. 0. 0. 0. 1. 0. 0. 1. 0. 0. 0. 0. 1. 0.\n",
      " 0. 0. 1. 0. 0. 0. 1. 0. 0. 0. 0. 1. 0. 0. 0. 0. 0. 0. 0. 0. 1. 0. 1. 0.\n",
      " 0. 0. 1.]\n",
      "7.861011743545532\n"
     ]
    }
   ],
   "source": [
    "#remove rows with less than 5 skills\n",
    "dfuser=dfuser.dropna(thresh=5)\n",
    "dfuser.shape\n",
    "m=(np.asscalar(np.int32(max(dfuser[\"Respondent\"]))))\n",
    "print(m)\n",
    "print(type(m))\n",
    "#Build  a dictionary of respondent id's as keys  and thier skills as values\n",
    "temp=[0]*m\n",
    "vector=np.array(temp)\n",
    "count=1\n",
    "star=time.time()\n",
    "d=dict()\n",
    "for row in dfuser.iterrows():\n",
    "        index,data=row\n",
    "        l=list()\n",
    "        #l=[data.values[0],list(data.values[1:])]\n",
    "        s=np.asscalar(np.int32(data.values[0]))\n",
    "        d[s]=np.array(list(data.values[1:]))\n",
    "        #print(type(data))\n",
    "end=time.time()\n",
    "print(d[1])\n",
    "print(end-star)"
   ]
  },
  {
   "cell_type": "code",
   "execution_count": 6,
   "metadata": {},
   "outputs": [
    {
     "name": "stdout",
     "output_type": "stream",
     "text": [
      "0.21059465408325195\n"
     ]
    }
   ],
   "source": [
    "#Building the user similarity matrix based on thier skill vectors\n",
    "#initialising a user matrix uptill respondent number 5000\n",
    "sim=list()\n",
    "s=time.time()\n",
    "for i in range(5000):\n",
    "        l=list()\n",
    "        l=[0]*5000\n",
    "        sim.append(l)\n",
    "e=time.time()\n",
    "print(e-s)"
   ]
  },
  {
   "cell_type": "code",
   "execution_count": 7,
   "metadata": {},
   "outputs": [
    {
     "name": "stdout",
     "output_type": "stream",
     "text": [
      "total time for building similarity matrix  212.58200883865356\n"
     ]
    }
   ],
   "source": [
    "count1=1\n",
    "count2=1\n",
    "t=time.time()\n",
    "for key, value in d.items():\n",
    "        if(key<5000):\n",
    "#             print(key)\n",
    "            b=(np.linalg.norm(value))\n",
    "            for key2,value2 in d.items():\n",
    "                if(key2<5000):\n",
    "                    #print(key2)\n",
    "                    a=np.dot(d[key],d[key2])\n",
    "                    ans=a/(np.linalg.norm(value2)*b)\n",
    "                    sim[key][key2]=ans\n",
    "                    #count2+=1\n",
    "            #count1+=1\n",
    "e=time.time()\n",
    "print(\"total time for building similarity matrix \",e-s)"
   ]
  },
  {
   "cell_type": "code",
   "execution_count": 8,
   "metadata": {},
   "outputs": [
    {
     "name": "stdout",
     "output_type": "stream",
     "text": [
      "So, User 1 is most similar to user 4653 with similarity 0.738634599566731 in skills\n"
     ]
    }
   ],
   "source": [
    "###Testing###\n",
    "# the similarity of user 1 with others \n",
    "\n",
    "# print((max(sim[1][2:])))\n",
    "# print(sim[1].index(max(sim[1][2:])))\n",
    "\n",
    "print(\"So, User 1 is most similar to user 4653 with similarity\",max(sim[1][2:]),\"in skills\")"
   ]
  },
  {
   "cell_type": "code",
   "execution_count": 13,
   "metadata": {
    "scrolled": false
   },
   "outputs": [
    {
     "name": "stdout",
     "output_type": "stream",
     "text": [
      "total time for building similarity matrix  0.0009982585906982422\n",
      "Building the similarity matrix...\n",
      "\n"
     ]
    }
   ],
   "source": [
    "#For buiding  collaborative filtering based on The Content based recommendations for the first 200 Respondents. \n",
    "\n",
    "dfcont=pd.read_csv(\"./data/collaborative filtering/recommendations.csv\",  encoding='windows-1252')\n",
    "sim=list()\n",
    "s=time.time()\n",
    "for i in range(200):\n",
    "        l=list()\n",
    "        l=[0]*200\n",
    "        sim.append(l)\n",
    "\n",
    "e=time.time()\n",
    "print(\"total time for building similarity matrix \",e-s)\n",
    "t=time.time()\n",
    "print(\"Building the similarity matrix...\\n\")\n",
    "\n",
    "for key, value in d.items():\n",
    "        if(key<200):\n",
    "            #print(key)\n",
    "            b=(np.linalg.norm(value))\n",
    "            for key2,value2 in d.items():\n",
    "                if(key2<200):\n",
    "                    #print(key2)\n",
    "                    a=np.dot(d[key],d[key2])\n",
    "                    ans=a/(np.linalg.norm(value2)*b)\n",
    "                    sim[key][key2]=ans\n",
    "                    #count2+=1\n",
    "            #count1+=1\n",
    "e=time.time()"
   ]
  },
  {
   "cell_type": "code",
   "execution_count": 14,
   "metadata": {},
   "outputs": [
    {
     "data": {
      "text/html": [
       "<div>\n",
       "<style scoped>\n",
       "    .dataframe tbody tr th:only-of-type {\n",
       "        vertical-align: middle;\n",
       "    }\n",
       "\n",
       "    .dataframe tbody tr th {\n",
       "        vertical-align: top;\n",
       "    }\n",
       "\n",
       "    .dataframe thead th {\n",
       "        text-align: right;\n",
       "    }\n",
       "</style>\n",
       "<table border=\"1\" class=\"dataframe\">\n",
       "  <thead>\n",
       "    <tr style=\"text-align: right;\">\n",
       "      <th></th>\n",
       "      <th>Job Title</th>\n",
       "      <th>Skills Required</th>\n",
       "    </tr>\n",
       "  </thead>\n",
       "  <tbody>\n",
       "    <tr>\n",
       "      <th>0</th>\n",
       "      <td>Python Developer</td>\n",
       "      <td>Python, Django, PostgreSQL, Python data struct...</td>\n",
       "    </tr>\n",
       "    <tr>\n",
       "      <th>1</th>\n",
       "      <td>Full-Stack Python Developer</td>\n",
       "      <td>Linux, Python, REST, AWS,</td>\n",
       "    </tr>\n",
       "    <tr>\n",
       "      <th>2</th>\n",
       "      <td>Full Stack Javascript Engineer</td>\n",
       "      <td>Node, React, Javascript, Amazon Web Services, ...</td>\n",
       "    </tr>\n",
       "    <tr>\n",
       "      <th>3</th>\n",
       "      <td>Full Stack Developer</td>\n",
       "      <td>Java, NodeJS, Ruby, Scala, Python, Powershell,...</td>\n",
       "    </tr>\n",
       "    <tr>\n",
       "      <th>4</th>\n",
       "      <td>System Administrator</td>\n",
       "      <td>AIX, Linux, Unix, IBM Redhat, VMWare, ESXi Ker...</td>\n",
       "    </tr>\n",
       "  </tbody>\n",
       "</table>\n",
       "</div>"
      ],
      "text/plain": [
       "                        Job Title  \\\n",
       "0                Python Developer   \n",
       "1     Full-Stack Python Developer   \n",
       "2  Full Stack Javascript Engineer   \n",
       "3            Full Stack Developer   \n",
       "4            System Administrator   \n",
       "\n",
       "                                     Skills Required  \n",
       "0  Python, Django, PostgreSQL, Python data struct...  \n",
       "1                          Linux, Python, REST, AWS,  \n",
       "2  Node, React, Javascript, Amazon Web Services, ...  \n",
       "3  Java, NodeJS, Ruby, Scala, Python, Powershell,...  \n",
       "4  AIX, Linux, Unix, IBM Redhat, VMWare, ESXi Ker...  "
      ]
     },
     "execution_count": 14,
     "metadata": {},
     "output_type": "execute_result"
    }
   ],
   "source": [
    "####Example#########\n",
    "#Recommending User '3' Dev Profile based on another user who has almost the same skill as him.\n",
    "\n",
    "#User 3 recommended job titles from content based filtering)\n",
    "\n",
    "jobtitle = dfcont.loc[dfcont.Respondent==3][\"jobtitle\"].values\n",
    "skills = dfcont.loc[dfcont.Respondent==3][\"skills\"].values\n",
    "df = pd.DataFrame(list(zip(jobtitle, skills)),\n",
    "               columns =['Job Title', 'Skills Required']) \n",
    "df.head()"
   ]
  },
  {
   "cell_type": "code",
   "execution_count": null,
   "metadata": {},
   "outputs": [],
   "source": []
  }
 ],
 "metadata": {
  "kernelspec": {
   "display_name": "Python 3",
   "language": "python",
   "name": "python3"
  },
  "language_info": {
   "codemirror_mode": {
    "name": "ipython",
    "version": 3
   },
   "file_extension": ".py",
   "mimetype": "text/x-python",
   "name": "python",
   "nbconvert_exporter": "python",
   "pygments_lexer": "ipython3",
   "version": "3.7.6"
  }
 },
 "nbformat": 4,
 "nbformat_minor": 4
}
